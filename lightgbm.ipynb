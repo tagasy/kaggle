{
  "nbformat": 4,
  "nbformat_minor": 0,
  "metadata": {
    "colab": {
      "name": "lightgbm.ipynb",
      "provenance": [],
      "private_outputs": true,
      "authorship_tag": "ABX9TyNqCSnhWHDud9C5nSLD3ZnV",
      "include_colab_link": true
    },
    "kernelspec": {
      "name": "python3",
      "display_name": "Python 3"
    }
  },
  "cells": [
    {
      "cell_type": "markdown",
      "metadata": {
        "id": "view-in-github",
        "colab_type": "text"
      },
      "source": [
        "<a href=\"https://colab.research.google.com/github/tagasy/kaggle/blob/master/lightgbm.ipynb\" target=\"_parent\"><img src=\"https://colab.research.google.com/assets/colab-badge.svg\" alt=\"Open In Colab\"/></a>"
      ]
    },
    {
      "cell_type": "code",
      "metadata": {
        "id": "65w66rSjPdoD",
        "colab_type": "code",
        "colab": {}
      },
      "source": [
        "from google.colab import files\n",
        "uploaded = files.upload()"
      ],
      "execution_count": 0,
      "outputs": []
    },
    {
      "cell_type": "code",
      "metadata": {
        "id": "dzyCEhqbVxmi",
        "colab_type": "code",
        "colab": {}
      },
      "source": [
        "import numpy as np\n",
        "import pandas as pd\n",
        "import matplotlib.pyplot as plt\n",
        "from sklearn.model_selection import train_test_split\n",
        "import lightgbm as lgb\n",
        "from sklearn import metrics\n",
        "from sklearn.metrics import log_loss\n",
        "from sklearn.linear_model import LogisticRegression\n",
        "from sklearn.preprocessing import StandardScaler\n",
        "from sklearn.model_selection import StratifiedKFold"
      ],
      "execution_count": 0,
      "outputs": []
    },
    {
      "cell_type": "code",
      "metadata": {
        "id": "Gjgc0gA1ZnYH",
        "colab_type": "code",
        "colab": {}
      },
      "source": [
        "train = pd.read_csv('train.csv')\n",
        "test = pd.read_csv('test.csv')"
      ],
      "execution_count": 0,
      "outputs": []
    },
    {
      "cell_type": "code",
      "metadata": {
        "id": "3nBh58fdZz7U",
        "colab_type": "code",
        "colab": {}
      },
      "source": [
        "X_train = train.drop(['id','target'], axis=1)\n",
        "y_train = train['target']"
      ],
      "execution_count": 0,
      "outputs": []
    },
    {
      "cell_type": "code",
      "metadata": {
        "id": "L8d1r53Cdm0q",
        "colab_type": "code",
        "colab": {}
      },
      "source": [
        "#評価用関数\n",
        "def get_evaluate(y_test, predict):\n",
        "\n",
        "    fpr, tpr, thr_arr = metrics.roc_curve(y_test, predict)\n",
        "\n",
        "    auc = metrics.auc(fpr, tpr)\n",
        "    precision = metrics.precision_score(y_test, predict)\n",
        "    recall = metrics.recall_score(y_test, predict)      \n",
        "\n",
        "    return auc, precision, recall"
      ],
      "execution_count": 0,
      "outputs": []
    },
    {
      "cell_type": "code",
      "metadata": {
        "id": "G5L9Nw8caZ3Q",
        "colab_type": "code",
        "colab": {}
      },
      "source": [
        "n_fold = 5\n",
        "folds = StratifiedKFold(n_splits=n_fold, shuffle=True, random_state=42)\n",
        "\n",
        "params = {\n",
        "    'objective': 'binary',\n",
        "    'seed': 71,\n",
        "    'learning_rate': 0.05,\n",
        "    'verbose': 1,\n",
        "    'num_leaves': 20,\n",
        "    'metrics': 'binary_logloss'\n",
        "\n",
        "}\n",
        "auc_list = []\n",
        "precision_list = []\n",
        "recall_list = []\n",
        "\n",
        "for train_index, test_index in enumerate(folds.split(X_train, y_train)):\n",
        "#ValueError: Found input variables with inconsistent numbers of samples: [300, 250]って出る\n",
        "  X_train, X_test = X_train.iloc[train_index], X_train.iloc[test_index]\n",
        "  y_train, y_test = y_train.iloc[train_index], y_train.iloc[test_index]\n",
        "\n",
        "  lgb_train = lgb.Dataset(X_train, y_train)\n",
        "  lgb_test = lgb.Dataset(X_test, y_test, reference=lgb_train)\n",
        "\n",
        "  model = lgb.train(params, \n",
        "                    lgb_train,\n",
        "                    num_boost_round=300,\n",
        "                    valid_sets=[lgb_train,lgb_test],\n",
        "                    early_stopping_rounds=10)\n",
        "\n",
        "  predict_proba = model.predict(X_test, num_iteration=model.best_iteration)\n",
        "  predict = [0 if i < 0.5 else 1 for i in predict_proba]\n",
        "\n",
        "  auc, precision, recall = get_evaluate(y_test, predict)\n",
        "  print('AUC:{}, precision:{}, recall:{}'.format(auc, precision, recall))\n",
        "\n",
        "  auc_list.append(auc)\n",
        "  precision_list.append(precision)\n",
        "  recall_list.append(recall)\n",
        "\n",
        "print('Kfold平均 AUC:{}, precision:{}, recall:{}'.format(np.mean(auc_list), \n",
        "                                                         np.mean(precision_list), \n",
        "                                                         np.mean(recall_list)))"
      ],
      "execution_count": 0,
      "outputs": []
    }
  ]
}